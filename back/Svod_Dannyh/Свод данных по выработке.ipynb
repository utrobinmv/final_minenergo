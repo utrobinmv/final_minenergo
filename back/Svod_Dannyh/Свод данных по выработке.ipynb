{
 "cells": [
  {
   "cell_type": "code",
   "execution_count": 1,
   "metadata": {},
   "outputs": [],
   "source": [
    "import pandas as pd\n",
    "import numpy as np\n",
    "from datetime import datetime, timedelta\n",
    "import glob, os\n",
    "import pathlib\n",
    "import matplotlib\n",
    "import matplotlib.pyplot as plt\n",
    "import seaborn as sns\n",
    "import sklearn\n",
    "from sklearn import tree\n",
    "from matplotlib import pyplot as plt"
   ]
  },
  {
   "cell_type": "code",
   "execution_count": 2,
   "metadata": {},
   "outputs": [
    {
     "name": "stdout",
     "output_type": "stream",
     "text": [
      "Количество обработанных файлов 32\n"
     ]
    }
   ],
   "source": [
    "file_count=0\n",
    "for f in os.scandir('C:/Users/Любовь/Documents/Hakaton'):\n",
    "    if f.is_file() and f.path.split('.')[-1].lower() == 'csv':\n",
    "        # Сперва файл читаем\n",
    "        with open(f.path, 'r') as csvfile:\n",
    "            file_count+=1\n",
    "            # Тут могуть быть и другие способы прочитать содержимое файла, например обход в цикле.\n",
    "            f_str = csvfile.read()\n",
    "            f_str=f_str.replace(',', '.')\n",
    "            with open(f.path, 'w') as f:\n",
    "                f.write(f_str)\n",
    "                f.close() \n",
    "print (\"Количество обработанных файлов\", file_count)"
   ]
  },
  {
   "cell_type": "code",
   "execution_count": 3,
   "metadata": {},
   "outputs": [],
   "source": [
    "file_count=0\n",
    "file_count_te=0\n",
    "file_count_ae=0\n",
    "file_count_gs=0\n",
    "file_count_vi=0\n",
    "for f in os.scandir('C:/Users/Любовь/Documents/Hakaton'):\n",
    "    # определяем тип информации в файле\n",
    "    if f.path.find(\"Мощность ВИЭ по регионам\") != -1:\n",
    "        # считаем к-во файлов\n",
    "        file_count_vi+=1\n",
    "        # перезаписываем датафрейм и Заносим значение из файла в датафрейм\n",
    "        VI=pd.read_csv(f.path ,sep=';')\n",
    "    \n"
   ]
  },
  {
   "cell_type": "code",
   "execution_count": 4,
   "metadata": {},
   "outputs": [
    {
     "name": "stdout",
     "output_type": "stream",
     "text": [
      "Количество обработанных файлов 39\n",
      "Количество обработанных файлов ГЭС 1\n",
      "Количество обработанных файлов АЭС 1\n",
      "Количество обработанных файлов ВИЭ 28\n",
      "Количество обработанных файлов ТЭС 1\n"
     ]
    }
   ],
   "source": [
    "file_count=0\n",
    "file_count_te=0\n",
    "file_count_ae=0\n",
    "file_count_gs=0\n",
    "file_count_vi=0\n",
    "VI = pd.DataFrame()\n",
    "GS = pd.DataFrame()\n",
    "TE = pd.DataFrame()\n",
    "AE = pd.DataFrame()\n",
    "for f in os.scandir('C:/Users/Любовь/Documents/Hakaton'):\n",
    "    file_count+=1\n",
    "    # определяем тип информации в файле\n",
    "    if f.path.find(\"Мощность ВИЭ по регионам\") != -1:\n",
    "        # считаем к-во файлов\n",
    "        file_count_vi+=1\n",
    "        # перезаписываем датафрейм и Заносим значение из файла в датафрейм\n",
    "        vi=pd.read_csv(f.path ,sep=';')\n",
    "        VI=VI.append(vi)\n",
    "    if f.path.find(\"Мощность ГЭС по регионам\") != -1:\n",
    "         # считаем к-во файлов\n",
    "        file_count_gs+=1\n",
    "        # перезаписываем датафрейм и Заносим значение из файла в датафрейм\n",
    "        gs=pd.read_csv(f.path ,sep=';')\n",
    "        GS=GS.append(gs)\n",
    "    if f.path.find(\"Мощность ТЭС по регионам\") != -1:\n",
    "         # считаем к-во файлов\n",
    "        file_count_te+=1\n",
    "        # перезаписываем датафрейм и Заносим значение из файла в датафрейм\n",
    "        te=pd.read_csv(f.path ,sep=';')\n",
    "        TE=TE.append(te)\n",
    "    if f.path.find(\"Мощность АЭС по регионам\") != -1:\n",
    "        # считаем к-во файлов\n",
    "        file_count_ae+=1\n",
    "        # перезаписываем датафрейм и Заносим значение из файла в датафрейм\n",
    "        ae=pd.read_csv(f.path ,sep=';')\n",
    "        AE=AE.append(ae)\n",
    "print (\"Количество обработанных файлов\", file_count)\n",
    "print (\"Количество обработанных файлов ГЭС\", file_count_gs)\n",
    "print (\"Количество обработанных файлов АЭС\", file_count_ae)\n",
    "print (\"Количество обработанных файлов ВИЭ\", file_count_vi)\n",
    "print (\"Количество обработанных файлов ТЭС\", file_count_te)"
   ]
  },
  {
   "cell_type": "code",
   "execution_count": 5,
   "metadata": {},
   "outputs": [],
   "source": [
    "E=TE.merge(AE).merge(GS.merge(vi))"
   ]
  },
  {
   "cell_type": "code",
   "execution_count": 6,
   "metadata": {},
   "outputs": [],
   "source": [
    "E['P_sum']=E['Paes']+E['Pren']+E['Pges']+E['Ptes']"
   ]
  },
  {
   "cell_type": "code",
   "execution_count": null,
   "metadata": {},
   "outputs": [],
   "source": []
  },
  {
   "cell_type": "code",
   "execution_count": null,
   "metadata": {},
   "outputs": [],
   "source": []
  }
 ],
 "metadata": {
  "kernelspec": {
   "display_name": "Python 3",
   "language": "python",
   "name": "python3"
  },
  "language_info": {
   "codemirror_mode": {
    "name": "ipython",
    "version": 3
   },
   "file_extension": ".py",
   "mimetype": "text/x-python",
   "name": "python",
   "nbconvert_exporter": "python",
   "pygments_lexer": "ipython3",
   "version": "3.7.3"
  }
 },
 "nbformat": 4,
 "nbformat_minor": 2
}
